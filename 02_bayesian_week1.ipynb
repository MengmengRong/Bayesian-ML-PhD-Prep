{
 "cells": [
  {
   "cell_type": "markdown",
   "metadata": {},
   "source": [
    "# Week 2: Introduction to Bayesian Thinking\n",
    "\n",
    "📘 Based on Week 1 of the Coursera course: *Bayesian Statistics – From Concept to Data Analysis*",
    "- Describe & apply the Bayesian approach to statistics.  \n",
    "- Explain the key differences between Bayesian and Frequentist approaches.  \n",
    "- Master the basics of the R computing environment.  \n"
   ]
  },
  {
   "cell_type": "markdown",
   "metadata": {},
   "source": [
    "## 🔑 Key Concepts\n",
    "- Bayes' Theorem:  \n",
    "  \\[ P(\\theta | D) = \\frac{P(D | \\theta) \\cdot P(\\theta)}{P(D)} \\]\n",
    "- Terminology:\n",
    "  - Prior: Belief before data\n",
    "  - Likelihood: How data is generated\n",
    "  - Posterior: Updated belief\n",
    "- Key contrast: Frequentist vs Bayesian perspective"
   ]
  },
  {
   "cell_type": "markdown",
   "metadata": {},
   "source": [
    "## 🧠 My Notes\n",
    "- Bayes' Theorem formalizes learning from data.\n",
    "- Posterior ∝ Likelihood × Prior is intuitive after examples.\n",
    "- Understanding the role of the normalizing constant `P(D)` was important."
   ]
  },
  {
   "cell_type": "code",
   "execution_count": null,
   "metadata": {},
   "outputs": [],
   "source": [
    "# Code Example: Posterior after observing coin flips\n",
    "import numpy as np\n",
    "import matplotlib.pyplot as plt\n",
    "from scipy.stats import beta\n",
    "\n",
    "# Prior: Beta(2,2)\n",
    "a, b = 2, 2\n",
    "\n",
    "# Observed data: 8 heads, 4 tails\n",
    "heads = 8\n",
    "tails = 4\n",
    "\n",
    "# Posterior parameters\n",
    "a_post = a + heads\n",
    "b_post = b + tails\n",
    "\n",
    "x = np.linspace(0, 1, 100)\n",
    "y = beta.pdf(x, a_post, b_post)\n",
    "\n",
    "plt.plot(x, y)\n",
    "plt.title(f\"Posterior: Beta({a_post}, {b_post})\")\n",
    "plt.xlabel(\"Theta\")\n",
    "plt.ylabel(\"Density\")\n",
    "plt.grid()\n",
    "plt.show()"
   ]
  },
  {
   "cell_type": "markdown",
   "metadata": {},
   "source": [
    "## 📝 Reflections\n",
    "- How do different priors affect the posterior?\n",
    "- What happens with more data?\n",
    "- What assumptions go into the Beta-Bernoulli model?"
   ]
  },
  {
   "cell_type": "markdown",
   "metadata": {},
   "source": [
    "## ✅ Checklist\n",
    "- [x] Watched all videos in Week 1\n",
    "- [ ] Completed quiz\n",
    "- [ ] Wrote own summary and reflection\n",
    "- [ ] Uploaded notebook to GitHub"
   ]
  }
 ],
 "metadata": {
  "kernelspec": {
   "display_name": "Python 3",
   "language": "python",
   "name": "python3"
  },
  "language_info": {
   "name": "python",
   "version": "3.x"
  }
 },
 "nbformat": 4,
 "nbformat_minor": 2
}

