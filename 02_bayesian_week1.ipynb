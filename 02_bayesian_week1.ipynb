{
 "cells": [
  {
   "cell_type": "markdown",
   "metadata": {},
   "source": [
    "# Bayesian Week 1: Introduction to Bayesian Thinking\n",
    "This notebook contains notes and code based on Week 1 of the Coursera Bayesian Statistics course."
   ]
  },
  {
   "cell_type": "markdown",
   "metadata": {},
   "source": [
    "## \ud83d\udcd8 Topics Covered\n",
    "- What is Bayes' Theorem?\n",
    "- Prior, likelihood, and posterior\n",
    "- Simple example: Coin flipping"
   ]
  },
  {
   "cell_type": "code",
   "execution_count": null,
   "metadata": {},
   "outputs": [],
   "source": [
    "# Example: Coin flip posterior\n",
    "import numpy as np\n",
    "import matplotlib.pyplot as plt\n",
    "from scipy.stats import beta\n",
    "\n",
    "# Prior parameters\n",
    "a, b = 2, 2  # Beta(2,2)\n",
    "\n",
    "# Observed data: 8 heads, 4 tails\n",
    "heads = 8\n",
    "tails = 4\n",
    "\n",
    "# Posterior parameters\n",
    "a_post = a + heads\n",
    "b_post = b + tails\n",
    "\n",
    "x = np.linspace(0, 1, 100)\n",
    "y = beta.pdf(x, a_post, b_post)\n",
    "\n",
    "plt.plot(x, y)\n",
    "plt.title(f\"Posterior Beta({a_post},{b_post})\")\n",
    "plt.xlabel(\"Theta\")\n",
    "plt.ylabel(\"Density\")\n",
    "plt.grid()\n",
    "plt.show()"
   ]
  },
  {
   "cell_type": "markdown",
   "metadata": {},
   "source": [
    "## \ud83d\udcdd Reflections\n",
    "- How does prior influence the posterior?\n",
    "- What happens as we collect more data?\n",
    "- How do we interpret the shape of the Beta distribution?"
   ]
  }
 ],
 "metadata": {
  "kernelspec": {
   "display_name": "Python 3",
   "language": "python",
   "name": "python3"
  },
  "language_info": {
   "name": "python",
   "version": ""
  }
 },
 "nbformat": 4,
 "nbformat_minor": 2
}
